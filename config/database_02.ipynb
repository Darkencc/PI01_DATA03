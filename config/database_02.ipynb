{
 "cells": [
  {
   "cell_type": "code",
   "execution_count": 11,
   "metadata": {},
   "outputs": [],
   "source": [
    "import pandas as pd\n",
    "import json"
   ]
  },
  {
   "cell_type": "code",
   "execution_count": 12,
   "metadata": {},
   "outputs": [],
   "source": [
    "#Importando los archivos CSV\n",
    "races_01 = pd.read_csv(r\"C:\\Users\\Ken\\Documents\\Henry DTS - 03\\Proyecto Individual\\PI01_DATA03\\Datasets\\races.csv\")\n",
    "circuits_01 = pd.read_csv(r\"C:\\Users\\Ken\\Documents\\Henry DTS - 03\\Proyecto Individual\\PI01_DATA03\\Datasets\\circuits.csv\")\n",
    "\n",
    "#Importando los archivos JSON\n",
    "constructors = pd.read_json(r\"C:\\Users\\Ken\\Documents\\Henry DTS - 03\\Proyecto Individual\\PI01_DATA03\\Datasets\\constructors.json\", lines=True)\n",
    "drivers = pd.read_json(r\"C:\\Users\\Ken\\Documents\\Henry DTS - 03\\Proyecto Individual\\PI01_DATA03\\Datasets\\drivers.json\", lines=True)\n",
    "#pit_stops = pd.read_json(r\"C:\\Users\\Ken\\Documents\\Henry DTS - 03\\Proyecto Individual\\PI01_DATA03\\Datasets\\pit_stops.json\", lines=True)\n",
    "results = pd.read_json(r\"C:\\Users\\Ken\\Documents\\Henry DTS - 03\\Proyecto Individual\\PI01_DATA03\\Datasets\\results.json\", lines=True)"
   ]
  },
  {
   "cell_type": "code",
   "execution_count": 32,
   "metadata": {},
   "outputs": [],
   "source": [
    "#Convirtiendo a CSV:\n",
    "results.to_csv(r\"C:\\Users\\Ken\\Documents\\Henry DTS - 03\\Proyecto Individual\\PI01_DATA03\\Datasets\\results_conv.csv\")\n",
    "\n",
    "constructors.to_csv(r\"C:\\Users\\Ken\\Documents\\Henry DTS - 03\\Proyecto Individual\\PI01_DATA03\\Datasets\\constructors_conv.csv\")\n",
    "\n",
    "drivers.to_csv(r\"C:\\Users\\Ken\\Documents\\Henry DTS - 03\\Proyecto Individual\\PI01_DATA03\\Datasets\\drivers_conv.csv\")"
   ]
  },
  {
   "cell_type": "code",
   "execution_count": 13,
   "metadata": {},
   "outputs": [
    {
     "name": "stdout",
     "output_type": "stream",
     "text": [
      "<class 'pandas.core.frame.DataFrame'>\n",
      "RangeIndex: 1058 entries, 0 to 1057\n",
      "Data columns (total 8 columns):\n",
      " #   Column     Non-Null Count  Dtype \n",
      "---  ------     --------------  ----- \n",
      " 0   raceId     1058 non-null   int64 \n",
      " 1   year       1058 non-null   int64 \n",
      " 2   round      1058 non-null   int64 \n",
      " 3   circuitId  1058 non-null   int64 \n",
      " 4   name       1058 non-null   object\n",
      " 5   date       1058 non-null   object\n",
      " 6   time       1058 non-null   object\n",
      " 7   url        1058 non-null   object\n",
      "dtypes: int64(4), object(4)\n",
      "memory usage: 66.2+ KB\n"
     ]
    }
   ],
   "source": [
    "races_01.info()"
   ]
  },
  {
   "cell_type": "code",
   "execution_count": 26,
   "metadata": {},
   "outputs": [
    {
     "name": "stdout",
     "output_type": "stream",
     "text": [
      "year      2021\n",
      "counts      23\n",
      "dtype: int64\n"
     ]
    }
   ],
   "source": [
    "#Año con más carreras\n",
    "races_01[\"year\"].value_counts() \n",
    "\n",
    "\n",
    "aa = races_01.groupby([\"year\"])\n",
    "print(aa.size().reset_index(name='counts').max())\n"
   ]
  },
  {
   "cell_type": "code",
   "execution_count": null,
   "metadata": {},
   "outputs": [],
   "source": []
  }
 ],
 "metadata": {
  "kernelspec": {
   "display_name": "Python 3.10.4 ('FastApi-practicando')",
   "language": "python",
   "name": "python3"
  },
  "language_info": {
   "codemirror_mode": {
    "name": "ipython",
    "version": 3
   },
   "file_extension": ".py",
   "mimetype": "text/x-python",
   "name": "python",
   "nbconvert_exporter": "python",
   "pygments_lexer": "ipython3",
   "version": "3.10.4"
  },
  "orig_nbformat": 4,
  "vscode": {
   "interpreter": {
    "hash": "be9fe03c587b07d2f7663f5ed4da7362b1d3821dc8c7735847cc40372729e381"
   }
  }
 },
 "nbformat": 4,
 "nbformat_minor": 2
}
